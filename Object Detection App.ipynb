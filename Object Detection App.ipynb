{
 "cells": [
  {
   "cell_type": "code",
   "execution_count": 9,
   "id": "f832e6da",
   "metadata": {},
   "outputs": [
    {
     "ename": "ModuleNotFoundError",
     "evalue": "No module named 'cv2'",
     "output_type": "error",
     "traceback": [
      "\u001b[1;31m---------------------------------------------------------------------------\u001b[0m",
      "\u001b[1;31mModuleNotFoundError\u001b[0m                       Traceback (most recent call last)",
      "Input \u001b[1;32mIn [9]\u001b[0m, in \u001b[0;36m<cell line: 2>\u001b[1;34m()\u001b[0m\n\u001b[0;32m      1\u001b[0m \u001b[38;5;28;01mimport\u001b[39;00m \u001b[38;5;21;01mnumpy\u001b[39;00m \u001b[38;5;28;01mas\u001b[39;00m \u001b[38;5;21;01mnp\u001b[39;00m\n\u001b[1;32m----> 2\u001b[0m \u001b[38;5;28;01mimport\u001b[39;00m \u001b[38;5;21;01mcv2\u001b[39;00m\n\u001b[0;32m      4\u001b[0m image_path \u001b[38;5;241m=\u001b[39m \u001b[38;5;124m\"\u001b[39m\u001b[38;5;124mPLACEHOLDER\u001b[39m\u001b[38;5;124m\"\u001b[39m\n\u001b[0;32m      5\u001b[0m prototxt_path \u001b[38;5;241m=\u001b[39m \u001b[38;5;124m'\u001b[39m\u001b[38;5;124mModels/MobileNetSSD_deploy.prototxt\u001b[39m\u001b[38;5;124m'\u001b[39m\n",
      "\u001b[1;31mModuleNotFoundError\u001b[0m: No module named 'cv2'"
     ]
    }
   ],
   "source": [
    "import numpy as np\n",
    "import cv2\n",
    "\n",
    "image_path = \"PLACEHOLDER\"\n",
    "prototxt_path = 'Models/MobileNetSSD_deploy.prototxt'\n",
    "model_path = 'Models/MobileNetSSD_deploy.caffemodel'\n",
    "min_confidence = 0.2\n",
    "\n",
    "classes = [\"background\", \"aeroplane\", \"bicycle\", \"bird\", \"boat\",\n",
    "           \"bottle\", \"bus\", \"car\", \"cat\", \"chair\", \"cow\", \"diningtable\",\n",
    "           \"dog\", \"horse\", \"motorbike\", \"person\", \"pottedplant\", \"sheep\",\n",
    "           \"sofa\", \"train\", \"tvmonitor\"]\n",
    "\n",
    "np.random.seed(543210)\n",
    "colors = np.random.uniform(0,255, size=(len(classes), 3))\n",
    "\n",
    "net= cv2.dnn.readNetFromCaffe(prototxt_path, model_path)\n",
    "\n",
    "image = cv2.imread(image_path)\n",
    "height, width = image.shape[0], image.shape[1]\n",
    "blob = cv2.dnn.blobFromImage(cv2.resize(image,(300,300)), 0.007,(300,300), 130)\n",
    "\n",
    "net.setInput(blob)\n",
    "detected_objects = net.forward()\n",
    "\n",
    "print(detected_objects[0][0][0])\n",
    "\n",
    "for i in range(detected_objects.shape[2]):\n",
    "    confidence = detected_objects[0][0][i][2]\n",
    "    \n",
    "    if confidence > min_confidence:\n",
    "        class_index = int (detected_objects[0,0,i,1])\n",
    "        \n",
    "        upper_left_x = int (detected_objects[0,0,i,3]*width)\n",
    "        upper_left_y = int (detected_objects[0,0,i,4]* height)\n",
    "        lower_right_x = int (detected_objects[0,0,i,5]*width)\n",
    "        lower_right_y = int (detected_objects[0,0,i,6]*height)\n",
    "        \n",
    "        prediction_text= f\"{classes[class_index]}: {confidence: .2f}%\"\n",
    "        cv2.rectangle (image,(upper_left_x, upper_left_y), (lower_right_x, lower_right_y), colors[class_index], 3)\n",
    "        cv2.putText(image, prediction_text, (upper_left_x, \n",
    "                    upper_left_y-15 if upper_left_y > 30 else upper_left_y + 15), \n",
    "                    cv2.FONT_HERSHEY_SIMPLEX, 0.6, colors[class_index], 2)\n",
    "        \n",
    "cv2.imshow(\"Detected Object\", image)\n",
    "cv2.waitKey(0)\n",
    "cv2.destroyAllWindows()"
   ]
  },
  {
   "cell_type": "code",
   "execution_count": 8,
   "id": "604da0e1",
   "metadata": {
    "scrolled": true
   },
   "outputs": [
    {
     "ename": "ModuleNotFoundError",
     "evalue": "No module named 'cv2'",
     "output_type": "error",
     "traceback": [
      "\u001b[1;31m---------------------------------------------------------------------------\u001b[0m",
      "\u001b[1;31mModuleNotFoundError\u001b[0m                       Traceback (most recent call last)",
      "Input \u001b[1;32mIn [8]\u001b[0m, in \u001b[0;36m<cell line: 2>\u001b[1;34m()\u001b[0m\n\u001b[0;32m      1\u001b[0m \u001b[38;5;28;01mimport\u001b[39;00m \u001b[38;5;21;01mnumpy\u001b[39;00m \u001b[38;5;28;01mas\u001b[39;00m \u001b[38;5;21;01mnp\u001b[39;00m\n\u001b[1;32m----> 2\u001b[0m \u001b[38;5;28;01mimport\u001b[39;00m \u001b[38;5;21;01mcv2\u001b[39;00m\n\u001b[0;32m      4\u001b[0m image_path \u001b[38;5;241m=\u001b[39m \u001b[38;5;124m\"\u001b[39m\u001b[38;5;124mPLACEHOLDER\u001b[39m\u001b[38;5;124m\"\u001b[39m\n\u001b[0;32m      5\u001b[0m prototxt_path \u001b[38;5;241m=\u001b[39m \u001b[38;5;124m'\u001b[39m\u001b[38;5;124mModels/MobileNetSSD_deploy.prototxt\u001b[39m\u001b[38;5;124m'\u001b[39m\n",
      "\u001b[1;31mModuleNotFoundError\u001b[0m: No module named 'cv2'"
     ]
    }
   ],
   "source": [
    "import numpy as np\n",
    "import cv2\n",
    "\n",
    "image_path = \"PLACEHOLDER\"\n",
    "prototxt_path = 'Models/MobileNetSSD_deploy.prototxt'\n",
    "model_path = 'Models/MobileNetSSD_deploy.caffemodel'\n",
    "min_confidence = 0.2\n",
    "\n",
    "classes = [\"background\", \"aeroplane\", \"bicycle\", \"bird\", \"boat\",\n",
    "           \"bottle\", \"bus\", \"car\", \"cat\", \"chair\", \"cow\", \"diningtable\",\n",
    "           \"dog\", \"horse\", \"motorbike\", \"person\", \"pottedplant\", \"sheep\",\n",
    "           \"sofa\", \"train\", \"tvmonitor\"]\n",
    "\n",
    "np.random.seed(543210)\n",
    "colors = np.random.uniform(0,255, size=(len(classes), 3))\n",
    "\n",
    "net= cv2.dnn.readNetFromCaffe(prototxt_path, model_path)\n",
    "\n",
    "cap = cv2.VideoCapture(0)\n",
    "\n",
    "while True:\n",
    "    _, image = cap.read()\n",
    "    height, width = image.shape[0], image.shape[1]\n",
    "    blob = cv2.dnn.blobFromImage(cv2.resize(image,(300,300)), 0.007,(300,300), 130)\n",
    "\n",
    "    net.setInput(blob)\n",
    "    detected_objects = net.forward()\n",
    "\n",
    "    print(detected_objects[0][0][0])\n",
    "\n",
    "    for i in range(detected_objects.shape[2]):\n",
    "        confidence = detected_objects[0][0][i][2]\n",
    "\n",
    "        if confidence > min_confidence:\n",
    "            class_index = int (detected_objects[0,0,i,1])\n",
    "\n",
    "            upper_left_x = int (detected_objects[0,0,i,3]*width)\n",
    "            upper_left_y = int (detected_objects[0,0,i,4]* height)\n",
    "            lower_right_x = int (detected_objects[0,0,i,5]*width)\n",
    "            lower_right_y = int (detected_objects[0,0,i,6]*height)\n",
    "\n",
    "            prediction_text= f\"{classes[class_index]}: {confidence: .2f}%\"\n",
    "            cv2.rectangle (image,(upper_left_x, upper_left_y), (lower_right_x, lower_right_y), colors[class_index], 3)\n",
    "            cv2.putText(image, prediction_text, (upper_left_x, \n",
    "                        upper_left_y-15 if upper_left_y > 30 else upper_left_y + 15), \n",
    "                        cv2.FONT_HERSHEY_SIMPLEX, 0.6, colors[class_index], 2)\n",
    "\n",
    "    cv2.imshow(\"Detected Object\", image)\n",
    "    cv2.waitKey(5)\n",
    "    \n",
    "cv2.destroyAllWindows()\n",
    "cap.release()"
   ]
  },
  {
   "cell_type": "code",
   "execution_count": null,
   "id": "7ce45ec7",
   "metadata": {},
   "outputs": [],
   "source": []
  }
 ],
 "metadata": {
  "kernelspec": {
   "display_name": "Python 3 (ipykernel)",
   "language": "python",
   "name": "python3"
  },
  "language_info": {
   "codemirror_mode": {
    "name": "ipython",
    "version": 3
   },
   "file_extension": ".py",
   "mimetype": "text/x-python",
   "name": "python",
   "nbconvert_exporter": "python",
   "pygments_lexer": "ipython3",
   "version": "3.9.12"
  }
 },
 "nbformat": 4,
 "nbformat_minor": 5
}
